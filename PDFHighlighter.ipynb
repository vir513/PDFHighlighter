{
 "cells": [
  {
   "cell_type": "code",
   "execution_count": null,
   "metadata": {},
   "outputs": [],
   "source": [
    "#pip install pymupdf\n",
    "#Library to interact with pdfs\n",
    "import fitz\n",
    "import time \n",
    "#pip install xlrd\n",
    "#lib to read excel files\n",
    "import xlrd\n",
    "\n",
    "#Opening the excel file and the specified sheet. Excel File path to be supplied here\n",
    "wb = xlrd.open_workbook('C:\\\\Users\\\\bichitramangaraj\\\\Desktop\\\\PDF Property File.xlsx')\n",
    "sh = wb.sheet_by_index(0)\n",
    "\n",
    "#Read data from column:\n",
    "value_list=sh.col_values(1, start_rowx=1)\n",
    "\n",
    "### READ IN PDF\n",
    "## Give the pdf file path here \n",
    "doc = fitz.open(r'C:\\\\Unqork\\\\Vault\\\\647-nj-blank-page-is-printed-with-vreluxl-dec-form\\\\PEL-NJ-DEC.pdf')\n",
    "page = doc[0]\n",
    "\n",
    "##IO operaiton \n",
    "import os\n",
    "\n",
    "for page in doc:\n",
    "    for i in value_list:\n",
    "        #print(i)\n",
    "        text_instances = page.searchFor(i)\n",
    "        timestr = time.strftime(\"%Y%m%d-%H%M%S\")\n",
    "        for inst in text_instances:\n",
    "            highlight = page.addHighlightAnnot(inst)\n",
    "doc.save(r\"C:\\Users\\bichitramangaraj\\Desktop\\Output\\PDF\"+ timestr +\".pdf\"   , garbage=4, deflate=True, clean=True)\n",
    "os.system(r'C:\\Users\\bichitramangaraj\\Desktop\\Output\\PDF'+ timestr +\".pdf\")"
   ]
  }
 ],
 "metadata": {
  "kernelspec": {
   "display_name": "Python 3",
   "language": "python",
   "name": "python3"
  },
  "language_info": {
   "codemirror_mode": {
    "name": "ipython",
    "version": 3
   },
   "file_extension": ".py",
   "mimetype": "text/x-python",
   "name": "python",
   "nbconvert_exporter": "python",
   "pygments_lexer": "ipython3",
   "version": "3.7.6"
  }
 },
 "nbformat": 4,
 "nbformat_minor": 4
}
